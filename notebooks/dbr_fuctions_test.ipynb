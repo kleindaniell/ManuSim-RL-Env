{
    "cells": [
        {
            "cell_type": "code",
            "execution_count": 8,
            "id": "68e03b6e",
            "metadata": {},
            "outputs": [],
            "source": [
                "from pathlib import Path\n",
                "import yaml\n",
                "import pandas as pd\n",
                "import numpy as np\n",
                "from rlsim.stores.dbr_stores import DBR_stores\n",
                "import simpy\n",
                "from scipy.stats import erlang\n",
                "\n",
                "import matplotlib.pyplot as plt"
            ]
        },
        {
            "cell_type": "code",
            "execution_count": 2,
            "id": "41b408d8",
            "metadata": {},
            "outputs": [],
            "source": [
                "resource_path = Path(\"../example/config/resources.yaml\")\n",
                "with open(resource_path, \"r\") as file:\n",
                "    resources_cfg = yaml.safe_load(file)\n",
                "\n",
                "products_path = Path(\"../example/config/products.yaml\")\n",
                "with open(products_path, \"r\") as file:\n",
                "    products_cfg = yaml.safe_load(file)\n"
            ]
        },
        {
            "cell_type": "code",
            "execution_count": 3,
            "id": "c0d3e6b5",
            "metadata": {},
            "outputs": [],
            "source": [
                "env = simpy.Environment()\n",
                "dbr = DBR_stores(env=env, resources=resources_cfg, products=products_cfg)\n"
            ]
        },
        {
            "cell_type": "code",
            "execution_count": 11,
            "id": "402f6629",
            "metadata": {},
            "outputs": [],
            "source": [
                "product = \"produto01\"\n",
                "ccr_processing_time = sum([\n",
                "                    process[\"processing_time\"][\"params\"][0]\n",
                "                    for process in dbr.processes_value_list[product]\n",
                "                    if process[\"resource\"] == \"r02\"\n",
                "                ])\n",
                "            "
            ]
        },
        {
            "cell_type": "code",
            "execution_count": 12,
            "id": "bd76dc07",
            "metadata": {},
            "outputs": [
                {
                    "data": {
                        "text/plain": [
                            "0.726"
                        ]
                    },
                    "execution_count": 12,
                    "metadata": {},
                    "output_type": "execute_result"
                }
            ],
            "source": [
                "ccr_processing_time"
            ]
        },
        {
            "cell_type": "code",
            "execution_count": 4,
            "id": "c691bcac",
            "metadata": {},
            "outputs": [
                {
                    "data": {
                        "application/vnd.microsoft.datawrangler.viewer.v0+json": {
                            "columns": [
                                {
                                    "name": "index",
                                    "rawType": "object",
                                    "type": "string"
                                },
                                {
                                    "name": "r01",
                                    "rawType": "float64",
                                    "type": "float"
                                },
                                {
                                    "name": "r02",
                                    "rawType": "float64",
                                    "type": "float"
                                },
                                {
                                    "name": "r03",
                                    "rawType": "float64",
                                    "type": "float"
                                },
                                {
                                    "name": "r04",
                                    "rawType": "float64",
                                    "type": "float"
                                },
                                {
                                    "name": "r05",
                                    "rawType": "float64",
                                    "type": "float"
                                },
                                {
                                    "name": "r06",
                                    "rawType": "float64",
                                    "type": "float"
                                },
                                {
                                    "name": "r07",
                                    "rawType": "float64",
                                    "type": "float"
                                },
                                {
                                    "name": "r08",
                                    "rawType": "float64",
                                    "type": "float"
                                },
                                {
                                    "name": "r09",
                                    "rawType": "float64",
                                    "type": "float"
                                },
                                {
                                    "name": "r10",
                                    "rawType": "float64",
                                    "type": "float"
                                },
                                {
                                    "name": "r11",
                                    "rawType": "float64",
                                    "type": "float"
                                },
                                {
                                    "name": "r12",
                                    "rawType": "float64",
                                    "type": "float"
                                },
                                {
                                    "name": "r13",
                                    "rawType": "float64",
                                    "type": "float"
                                }
                            ],
                            "ref": "4b0947b9-1e7a-4bfb-a41f-c6e55fd5e7cf",
                            "rows": [
                                [
                                    "produto01",
                                    "0.0",
                                    "0.0",
                                    "0.0",
                                    "0.0",
                                    "0.0",
                                    "0.0",
                                    "0.0",
                                    "0.0",
                                    "0.0",
                                    "0.0",
                                    "0.0",
                                    "0.0",
                                    "0.0"
                                ],
                                [
                                    "produto02",
                                    "0.0",
                                    "0.0",
                                    "0.0",
                                    "0.0",
                                    "0.0",
                                    "0.0",
                                    "0.0",
                                    "0.0",
                                    "0.0",
                                    "0.0",
                                    "0.0",
                                    "0.0",
                                    "0.0"
                                ],
                                [
                                    "produto03",
                                    "0.0",
                                    "0.0",
                                    "0.0",
                                    "0.0",
                                    "0.0",
                                    "0.0",
                                    "0.0",
                                    "0.0",
                                    "0.0",
                                    "0.0",
                                    "0.0",
                                    "0.0",
                                    "0.0"
                                ],
                                [
                                    "produto04",
                                    "0.0",
                                    "0.0",
                                    "0.0",
                                    "0.0",
                                    "0.0",
                                    "0.0",
                                    "0.0",
                                    "0.0",
                                    "0.0",
                                    "0.0",
                                    "0.0",
                                    "0.0",
                                    "0.0"
                                ],
                                [
                                    "produto05",
                                    "0.0",
                                    "0.0",
                                    "0.0",
                                    "0.0",
                                    "0.0",
                                    "0.0",
                                    "0.0",
                                    "0.0",
                                    "0.0",
                                    "0.0",
                                    "0.0",
                                    "0.0",
                                    "0.0"
                                ],
                                [
                                    "produto06",
                                    "0.0",
                                    "0.0",
                                    "0.0",
                                    "0.0",
                                    "0.0",
                                    "0.0",
                                    "0.0",
                                    "0.0",
                                    "0.0",
                                    "0.0",
                                    "0.0",
                                    "0.0",
                                    "0.0"
                                ],
                                [
                                    "produto07",
                                    "0.0",
                                    "0.0",
                                    "0.0",
                                    "0.0",
                                    "0.0",
                                    "0.0",
                                    "0.0",
                                    "0.0",
                                    "0.0",
                                    "0.0",
                                    "0.0",
                                    "0.0",
                                    "0.0"
                                ],
                                [
                                    "produto08",
                                    "0.0",
                                    "0.0",
                                    "0.0",
                                    "0.0",
                                    "0.0",
                                    "0.0",
                                    "0.0",
                                    "0.0",
                                    "0.0",
                                    "0.0",
                                    "0.0",
                                    "0.0",
                                    "0.0"
                                ],
                                [
                                    "produto09",
                                    "0.0",
                                    "0.0",
                                    "0.0",
                                    "0.0",
                                    "0.0",
                                    "0.0",
                                    "0.0",
                                    "0.0",
                                    "0.0",
                                    "0.0",
                                    "0.0",
                                    "0.0",
                                    "0.0"
                                ],
                                [
                                    "produto10",
                                    "0.0",
                                    "0.0",
                                    "0.0",
                                    "0.0",
                                    "0.0",
                                    "0.0",
                                    "0.0",
                                    "0.0",
                                    "0.0",
                                    "0.0",
                                    "0.0",
                                    "0.0",
                                    "0.0"
                                ]
                            ],
                            "shape": {
                                "columns": 13,
                                "rows": 10
                            }
                        },
                        "text/html": [
                            "<div>\n",
                            "<style scoped>\n",
                            "    .dataframe tbody tr th:only-of-type {\n",
                            "        vertical-align: middle;\n",
                            "    }\n",
                            "\n",
                            "    .dataframe tbody tr th {\n",
                            "        vertical-align: top;\n",
                            "    }\n",
                            "\n",
                            "    .dataframe thead th {\n",
                            "        text-align: right;\n",
                            "    }\n",
                            "</style>\n",
                            "<table border=\"1\" class=\"dataframe\">\n",
                            "  <thead>\n",
                            "    <tr style=\"text-align: right;\">\n",
                            "      <th></th>\n",
                            "      <th>r01</th>\n",
                            "      <th>r02</th>\n",
                            "      <th>r03</th>\n",
                            "      <th>r04</th>\n",
                            "      <th>r05</th>\n",
                            "      <th>r06</th>\n",
                            "      <th>r07</th>\n",
                            "      <th>r08</th>\n",
                            "      <th>r09</th>\n",
                            "      <th>r10</th>\n",
                            "      <th>r11</th>\n",
                            "      <th>r12</th>\n",
                            "      <th>r13</th>\n",
                            "    </tr>\n",
                            "  </thead>\n",
                            "  <tbody>\n",
                            "    <tr>\n",
                            "      <th>produto01</th>\n",
                            "      <td>0.0</td>\n",
                            "      <td>0.0</td>\n",
                            "      <td>0.0</td>\n",
                            "      <td>0.0</td>\n",
                            "      <td>0.0</td>\n",
                            "      <td>0.0</td>\n",
                            "      <td>0.0</td>\n",
                            "      <td>0.0</td>\n",
                            "      <td>0.0</td>\n",
                            "      <td>0.0</td>\n",
                            "      <td>0.0</td>\n",
                            "      <td>0.0</td>\n",
                            "      <td>0.0</td>\n",
                            "    </tr>\n",
                            "    <tr>\n",
                            "      <th>produto02</th>\n",
                            "      <td>0.0</td>\n",
                            "      <td>0.0</td>\n",
                            "      <td>0.0</td>\n",
                            "      <td>0.0</td>\n",
                            "      <td>0.0</td>\n",
                            "      <td>0.0</td>\n",
                            "      <td>0.0</td>\n",
                            "      <td>0.0</td>\n",
                            "      <td>0.0</td>\n",
                            "      <td>0.0</td>\n",
                            "      <td>0.0</td>\n",
                            "      <td>0.0</td>\n",
                            "      <td>0.0</td>\n",
                            "    </tr>\n",
                            "    <tr>\n",
                            "      <th>produto03</th>\n",
                            "      <td>0.0</td>\n",
                            "      <td>0.0</td>\n",
                            "      <td>0.0</td>\n",
                            "      <td>0.0</td>\n",
                            "      <td>0.0</td>\n",
                            "      <td>0.0</td>\n",
                            "      <td>0.0</td>\n",
                            "      <td>0.0</td>\n",
                            "      <td>0.0</td>\n",
                            "      <td>0.0</td>\n",
                            "      <td>0.0</td>\n",
                            "      <td>0.0</td>\n",
                            "      <td>0.0</td>\n",
                            "    </tr>\n",
                            "    <tr>\n",
                            "      <th>produto04</th>\n",
                            "      <td>0.0</td>\n",
                            "      <td>0.0</td>\n",
                            "      <td>0.0</td>\n",
                            "      <td>0.0</td>\n",
                            "      <td>0.0</td>\n",
                            "      <td>0.0</td>\n",
                            "      <td>0.0</td>\n",
                            "      <td>0.0</td>\n",
                            "      <td>0.0</td>\n",
                            "      <td>0.0</td>\n",
                            "      <td>0.0</td>\n",
                            "      <td>0.0</td>\n",
                            "      <td>0.0</td>\n",
                            "    </tr>\n",
                            "    <tr>\n",
                            "      <th>produto05</th>\n",
                            "      <td>0.0</td>\n",
                            "      <td>0.0</td>\n",
                            "      <td>0.0</td>\n",
                            "      <td>0.0</td>\n",
                            "      <td>0.0</td>\n",
                            "      <td>0.0</td>\n",
                            "      <td>0.0</td>\n",
                            "      <td>0.0</td>\n",
                            "      <td>0.0</td>\n",
                            "      <td>0.0</td>\n",
                            "      <td>0.0</td>\n",
                            "      <td>0.0</td>\n",
                            "      <td>0.0</td>\n",
                            "    </tr>\n",
                            "    <tr>\n",
                            "      <th>produto06</th>\n",
                            "      <td>0.0</td>\n",
                            "      <td>0.0</td>\n",
                            "      <td>0.0</td>\n",
                            "      <td>0.0</td>\n",
                            "      <td>0.0</td>\n",
                            "      <td>0.0</td>\n",
                            "      <td>0.0</td>\n",
                            "      <td>0.0</td>\n",
                            "      <td>0.0</td>\n",
                            "      <td>0.0</td>\n",
                            "      <td>0.0</td>\n",
                            "      <td>0.0</td>\n",
                            "      <td>0.0</td>\n",
                            "    </tr>\n",
                            "    <tr>\n",
                            "      <th>produto07</th>\n",
                            "      <td>0.0</td>\n",
                            "      <td>0.0</td>\n",
                            "      <td>0.0</td>\n",
                            "      <td>0.0</td>\n",
                            "      <td>0.0</td>\n",
                            "      <td>0.0</td>\n",
                            "      <td>0.0</td>\n",
                            "      <td>0.0</td>\n",
                            "      <td>0.0</td>\n",
                            "      <td>0.0</td>\n",
                            "      <td>0.0</td>\n",
                            "      <td>0.0</td>\n",
                            "      <td>0.0</td>\n",
                            "    </tr>\n",
                            "    <tr>\n",
                            "      <th>produto08</th>\n",
                            "      <td>0.0</td>\n",
                            "      <td>0.0</td>\n",
                            "      <td>0.0</td>\n",
                            "      <td>0.0</td>\n",
                            "      <td>0.0</td>\n",
                            "      <td>0.0</td>\n",
                            "      <td>0.0</td>\n",
                            "      <td>0.0</td>\n",
                            "      <td>0.0</td>\n",
                            "      <td>0.0</td>\n",
                            "      <td>0.0</td>\n",
                            "      <td>0.0</td>\n",
                            "      <td>0.0</td>\n",
                            "    </tr>\n",
                            "    <tr>\n",
                            "      <th>produto09</th>\n",
                            "      <td>0.0</td>\n",
                            "      <td>0.0</td>\n",
                            "      <td>0.0</td>\n",
                            "      <td>0.0</td>\n",
                            "      <td>0.0</td>\n",
                            "      <td>0.0</td>\n",
                            "      <td>0.0</td>\n",
                            "      <td>0.0</td>\n",
                            "      <td>0.0</td>\n",
                            "      <td>0.0</td>\n",
                            "      <td>0.0</td>\n",
                            "      <td>0.0</td>\n",
                            "      <td>0.0</td>\n",
                            "    </tr>\n",
                            "    <tr>\n",
                            "      <th>produto10</th>\n",
                            "      <td>0.0</td>\n",
                            "      <td>0.0</td>\n",
                            "      <td>0.0</td>\n",
                            "      <td>0.0</td>\n",
                            "      <td>0.0</td>\n",
                            "      <td>0.0</td>\n",
                            "      <td>0.0</td>\n",
                            "      <td>0.0</td>\n",
                            "      <td>0.0</td>\n",
                            "      <td>0.0</td>\n",
                            "      <td>0.0</td>\n",
                            "      <td>0.0</td>\n",
                            "      <td>0.0</td>\n",
                            "    </tr>\n",
                            "  </tbody>\n",
                            "</table>\n",
                            "</div>"
                        ],
                        "text/plain": [
                            "           r01  r02  r03  r04  r05  r06  r07  r08  r09  r10  r11  r12  r13\n",
                            "produto01  0.0  0.0  0.0  0.0  0.0  0.0  0.0  0.0  0.0  0.0  0.0  0.0  0.0\n",
                            "produto02  0.0  0.0  0.0  0.0  0.0  0.0  0.0  0.0  0.0  0.0  0.0  0.0  0.0\n",
                            "produto03  0.0  0.0  0.0  0.0  0.0  0.0  0.0  0.0  0.0  0.0  0.0  0.0  0.0\n",
                            "produto04  0.0  0.0  0.0  0.0  0.0  0.0  0.0  0.0  0.0  0.0  0.0  0.0  0.0\n",
                            "produto05  0.0  0.0  0.0  0.0  0.0  0.0  0.0  0.0  0.0  0.0  0.0  0.0  0.0\n",
                            "produto06  0.0  0.0  0.0  0.0  0.0  0.0  0.0  0.0  0.0  0.0  0.0  0.0  0.0\n",
                            "produto07  0.0  0.0  0.0  0.0  0.0  0.0  0.0  0.0  0.0  0.0  0.0  0.0  0.0\n",
                            "produto08  0.0  0.0  0.0  0.0  0.0  0.0  0.0  0.0  0.0  0.0  0.0  0.0  0.0\n",
                            "produto09  0.0  0.0  0.0  0.0  0.0  0.0  0.0  0.0  0.0  0.0  0.0  0.0  0.0\n",
                            "produto10  0.0  0.0  0.0  0.0  0.0  0.0  0.0  0.0  0.0  0.0  0.0  0.0  0.0"
                        ]
                    },
                    "execution_count": 4,
                    "metadata": {},
                    "output_type": "execute_result"
                }
            ],
            "source": [
                "df = pd.DataFrame(data=np.zeros((len(products_cfg), len(resources_cfg))),\n",
                "                  index=products_cfg.keys(),\n",
                "                  columns=resources_cfg.keys())\n",
                "df\n"
            ]
        },
        {
            "cell_type": "code",
            "execution_count": 14,
            "id": "86401894",
            "metadata": {},
            "outputs": [
                {
                    "data": {
                        "image/png": "[encoded data removed]",
                        "text/plain": [
                            "<Figure size 640x480 with 1 Axes>"
                        ]
                    },
                    "metadata": {},
                    "output_type": "display_data"
                }
            ],
            "source": [
                "erlang_dist = erlang(3, scale=1/3.333)\n",
                "erlang_dist.rvs(10)\n",
                "values = erlang_dist.rvs(1000)\n",
                "plt.hist(values, bins=25)\n",
                "plt.show()\n"
            ]
        },
        {
            "cell_type": "code",
            "execution_count": 18,
            "id": "21495d97",
            "metadata": {},
            "outputs": [],
            "source": [
                "import random\n",
                "def self.dist.random_number(distribution, params) -> float:\n",
                "    value = 0\n",
                "    if distribution == \"constant\":\n",
                "        value = params[0]\n",
                "    elif distribution == \"uniform\":\n",
                "        c = params[1] * 2 * np.sqrt(3)\n",
                "        a = params[0] - (c / 2)\n",
                "        b = params[0] + (c / 2)\n",
                "        print(a,b)\n",
                "        value = random.uniform(a, b)\n",
                "    elif distribution == \"gamma\":\n",
                "        k = params[0] ** 2 / params[1] ** 2\n",
                "        theta = params[1] ** 2 / params[0]\n",
                "        print(k, theta)\n",
                "        value = random.gammavariate(k, theta)\n",
                "    elif distribution == \"erlang\":\n",
                "        k = params[0] ** 2 / params[1] ** 2\n",
                "        theta = params[1] ** 2 / params[0]\n",
                "        print(k, theta)\n",
                "        value = random.gammavariate(k, theta)\n",
                "    elif distribution == \"expo\":\n",
                "        value = random.expovariate(1 / params[0])\n",
                "    elif distribution == \"normal\":\n",
                "        value = random.normalvariate(params[0], params[1])\n",
                "    else:\n",
                "        value = 0\n",
                "    \n",
                "\n",
                "\n",
                "    return value"
            ]
        },
        {
            "cell_type": "code",
            "execution_count": 23,
            "id": "980eb6fe",
            "metadata": {},
            "outputs": [
                {
                    "name": "stdout",
                    "output_type": "stream",
                    "text": [
                        "4.0 2.5\n"
                    ]
                },
                {
                    "data": {
                        "text/plain": [
                            "7.885204781713883"
                        ]
                    },
                    "execution_count": 23,
                    "metadata": {},
                    "output_type": "execute_result"
                }
            ],
            "source": [
                "self.dist.random_number(\"erlang\", [10, 5.00])"
            ]
        },
        {
            "cell_type": "code",
            "execution_count": 16,
            "id": "9d475d0a",
            "metadata": {},
            "outputs": [
                {
                    "data": {
                        "text/plain": [
                            "np.float64(0.053171101781421065)"
                        ]
                    },
                    "execution_count": 16,
                    "metadata": {},
                    "output_type": "execute_result"
                }
            ],
            "source": [
                "values.min()"
            ]
        },
        {
            "cell_type": "code",
            "execution_count": 5,
            "id": "10d157a5",
            "metadata": {},
            "outputs": [
                {
                    "data": {
                        "application/vnd.microsoft.datawrangler.viewer.v0+json": {
                            "columns": [
                                {
                                    "name": "index",
                                    "rawType": "object",
                                    "type": "string"
                                },
                                {
                                    "name": "r01",
                                    "rawType": "float32",
                                    "type": "float"
                                },
                                {
                                    "name": "r02",
                                    "rawType": "float32",
                                    "type": "float"
                                },
                                {
                                    "name": "r03",
                                    "rawType": "float32",
                                    "type": "float"
                                },
                                {
                                    "name": "r04",
                                    "rawType": "float32",
                                    "type": "float"
                                },
                                {
                                    "name": "r05",
                                    "rawType": "float32",
                                    "type": "float"
                                },
                                {
                                    "name": "r06",
                                    "rawType": "float32",
                                    "type": "float"
                                },
                                {
                                    "name": "r07",
                                    "rawType": "float32",
                                    "type": "float"
                                },
                                {
                                    "name": "r08",
                                    "rawType": "float32",
                                    "type": "float"
                                },
                                {
                                    "name": "r09",
                                    "rawType": "float32",
                                    "type": "float"
                                },
                                {
                                    "name": "r10",
                                    "rawType": "float32",
                                    "type": "float"
                                },
                                {
                                    "name": "r11",
                                    "rawType": "float32",
                                    "type": "float"
                                },
                                {
                                    "name": "r12",
                                    "rawType": "float32",
                                    "type": "float"
                                },
                                {
                                    "name": "r13",
                                    "rawType": "float32",
                                    "type": "float"
                                }
                            ],
                            "ref": "02a0127d-b255-49ee-b70e-82f66174c743",
                            "rows": [
                                [
                                    "produto01",
                                    "0.078",
                                    "0.0726",
                                    "0.0",
                                    "0.10570001",
                                    "0.0",
                                    "0.0",
                                    "0.0",
                                    "0.0",
                                    "0.1175",
                                    "0.17999999",
                                    "0.14400001",
                                    "0.0",
                                    "0.0"
                                ],
                                [
                                    "produto02",
                                    "0.078",
                                    "0.0726",
                                    "0.0",
                                    "0.0",
                                    "0.2",
                                    "0.0",
                                    "0.0",
                                    "0.1875",
                                    "0.1175",
                                    "0.17999999",
                                    "0.14400001",
                                    "0.0",
                                    "0.0"
                                ],
                                [
                                    "produto03",
                                    "0.078",
                                    "0.0726",
                                    "0.0",
                                    "0.10570001",
                                    "0.0",
                                    "0.14",
                                    "0.0",
                                    "0.0",
                                    "0.1175",
                                    "0.0",
                                    "0.14400001",
                                    "0.1157",
                                    "0.0"
                                ],
                                [
                                    "produto04",
                                    "0.078",
                                    "0.0726",
                                    "0.0",
                                    "0.10570001",
                                    "0.0",
                                    "0.0",
                                    "0.1775",
                                    "0.0",
                                    "0.1175",
                                    "0.17999999",
                                    "0.14400001",
                                    "0.0",
                                    "0.0"
                                ],
                                [
                                    "produto05",
                                    "0.078",
                                    "0.1089",
                                    "0.0",
                                    "0.10570001",
                                    "0.0",
                                    "0.0",
                                    "0.0",
                                    "0.0",
                                    "0.1175",
                                    "0.0",
                                    "0.0",
                                    "0.1157",
                                    "0.14500001"
                                ],
                                [
                                    "produto06",
                                    "0.078",
                                    "0.0726",
                                    "0.0",
                                    "0.0",
                                    "0.2",
                                    "0.0",
                                    "0.1775",
                                    "0.0",
                                    "0.1175",
                                    "0.0",
                                    "0.0",
                                    "0.1157",
                                    "0.14500001"
                                ],
                                [
                                    "produto07",
                                    "0.078",
                                    "0.1089",
                                    "0.0",
                                    "0.0",
                                    "0.0",
                                    "0.0",
                                    "0.1775",
                                    "0.1875",
                                    "0.0",
                                    "0.0",
                                    "0.0",
                                    "0.1157",
                                    "0.14500001"
                                ],
                                [
                                    "produto08",
                                    "0.078",
                                    "0.1089",
                                    "0.2667",
                                    "0.10570001",
                                    "0.0",
                                    "0.14",
                                    "0.1775",
                                    "0.1875",
                                    "0.1175",
                                    "0.0",
                                    "0.0",
                                    "0.1157",
                                    "0.14500001"
                                ],
                                [
                                    "produto09",
                                    "0.078",
                                    "0.1089",
                                    "0.2667",
                                    "0.10570001",
                                    "0.2",
                                    "0.28",
                                    "0.0",
                                    "0.1875",
                                    "0.0",
                                    "0.17999999",
                                    "0.0",
                                    "0.1157",
                                    "0.14500001"
                                ],
                                [
                                    "produto10",
                                    "0.078",
                                    "0.1089",
                                    "0.2667",
                                    "0.10570001",
                                    "0.2",
                                    "0.14",
                                    "0.1775",
                                    "0.0",
                                    "0.1175",
                                    "0.0",
                                    "0.14400001",
                                    "0.1157",
                                    "0.14500001"
                                ]
                            ],
                            "shape": {
                                "columns": 13,
                                "rows": 10
                            }
                        },
                        "text/html": [
                            "<div>\n",
                            "<style scoped>\n",
                            "    .dataframe tbody tr th:only-of-type {\n",
                            "        vertical-align: middle;\n",
                            "    }\n",
                            "\n",
                            "    .dataframe tbody tr th {\n",
                            "        vertical-align: top;\n",
                            "    }\n",
                            "\n",
                            "    .dataframe thead th {\n",
                            "        text-align: right;\n",
                            "    }\n",
                            "</style>\n",
                            "<table border=\"1\" class=\"dataframe\">\n",
                            "  <thead>\n",
                            "    <tr style=\"text-align: right;\">\n",
                            "      <th></th>\n",
                            "      <th>r01</th>\n",
                            "      <th>r02</th>\n",
                            "      <th>r03</th>\n",
                            "      <th>r04</th>\n",
                            "      <th>r05</th>\n",
                            "      <th>r06</th>\n",
                            "      <th>r07</th>\n",
                            "      <th>r08</th>\n",
                            "      <th>r09</th>\n",
                            "      <th>r10</th>\n",
                            "      <th>r11</th>\n",
                            "      <th>r12</th>\n",
                            "      <th>r13</th>\n",
                            "    </tr>\n",
                            "  </thead>\n",
                            "  <tbody>\n",
                            "    <tr>\n",
                            "      <th>produto01</th>\n",
                            "      <td>0.078</td>\n",
                            "      <td>0.0726</td>\n",
                            "      <td>0.0000</td>\n",
                            "      <td>0.1057</td>\n",
                            "      <td>0.0</td>\n",
                            "      <td>0.00</td>\n",
                            "      <td>0.0000</td>\n",
                            "      <td>0.0000</td>\n",
                            "      <td>0.1175</td>\n",
                            "      <td>0.18</td>\n",
                            "      <td>0.144</td>\n",
                            "      <td>0.0000</td>\n",
                            "      <td>0.000</td>\n",
                            "    </tr>\n",
                            "    <tr>\n",
                            "      <th>produto02</th>\n",
                            "      <td>0.078</td>\n",
                            "      <td>0.0726</td>\n",
                            "      <td>0.0000</td>\n",
                            "      <td>0.0000</td>\n",
                            "      <td>0.2</td>\n",
                            "      <td>0.00</td>\n",
                            "      <td>0.0000</td>\n",
                            "      <td>0.1875</td>\n",
                            "      <td>0.1175</td>\n",
                            "      <td>0.18</td>\n",
                            "      <td>0.144</td>\n",
                            "      <td>0.0000</td>\n",
                            "      <td>0.000</td>\n",
                            "    </tr>\n",
                            "    <tr>\n",
                            "      <th>produto03</th>\n",
                            "      <td>0.078</td>\n",
                            "      <td>0.0726</td>\n",
                            "      <td>0.0000</td>\n",
                            "      <td>0.1057</td>\n",
                            "      <td>0.0</td>\n",
                            "      <td>0.14</td>\n",
                            "      <td>0.0000</td>\n",
                            "      <td>0.0000</td>\n",
                            "      <td>0.1175</td>\n",
                            "      <td>0.00</td>\n",
                            "      <td>0.144</td>\n",
                            "      <td>0.1157</td>\n",
                            "      <td>0.000</td>\n",
                            "    </tr>\n",
                            "    <tr>\n",
                            "      <th>produto04</th>\n",
                            "      <td>0.078</td>\n",
                            "      <td>0.0726</td>\n",
                            "      <td>0.0000</td>\n",
                            "      <td>0.1057</td>\n",
                            "      <td>0.0</td>\n",
                            "      <td>0.00</td>\n",
                            "      <td>0.1775</td>\n",
                            "      <td>0.0000</td>\n",
                            "      <td>0.1175</td>\n",
                            "      <td>0.18</td>\n",
                            "      <td>0.144</td>\n",
                            "      <td>0.0000</td>\n",
                            "      <td>0.000</td>\n",
                            "    </tr>\n",
                            "    <tr>\n",
                            "      <th>produto05</th>\n",
                            "      <td>0.078</td>\n",
                            "      <td>0.1089</td>\n",
                            "      <td>0.0000</td>\n",
                            "      <td>0.1057</td>\n",
                            "      <td>0.0</td>\n",
                            "      <td>0.00</td>\n",
                            "      <td>0.0000</td>\n",
                            "      <td>0.0000</td>\n",
                            "      <td>0.1175</td>\n",
                            "      <td>0.00</td>\n",
                            "      <td>0.000</td>\n",
                            "      <td>0.1157</td>\n",
                            "      <td>0.145</td>\n",
                            "    </tr>\n",
                            "    <tr>\n",
                            "      <th>produto06</th>\n",
                            "      <td>0.078</td>\n",
                            "      <td>0.0726</td>\n",
                            "      <td>0.0000</td>\n",
                            "      <td>0.0000</td>\n",
                            "      <td>0.2</td>\n",
                            "      <td>0.00</td>\n",
                            "      <td>0.1775</td>\n",
                            "      <td>0.0000</td>\n",
                            "      <td>0.1175</td>\n",
                            "      <td>0.00</td>\n",
                            "      <td>0.000</td>\n",
                            "      <td>0.1157</td>\n",
                            "      <td>0.145</td>\n",
                            "    </tr>\n",
                            "    <tr>\n",
                            "      <th>produto07</th>\n",
                            "      <td>0.078</td>\n",
                            "      <td>0.1089</td>\n",
                            "      <td>0.0000</td>\n",
                            "      <td>0.0000</td>\n",
                            "      <td>0.0</td>\n",
                            "      <td>0.00</td>\n",
                            "      <td>0.1775</td>\n",
                            "      <td>0.1875</td>\n",
                            "      <td>0.0000</td>\n",
                            "      <td>0.00</td>\n",
                            "      <td>0.000</td>\n",
                            "      <td>0.1157</td>\n",
                            "      <td>0.145</td>\n",
                            "    </tr>\n",
                            "    <tr>\n",
                            "      <th>produto08</th>\n",
                            "      <td>0.078</td>\n",
                            "      <td>0.1089</td>\n",
                            "      <td>0.2667</td>\n",
                            "      <td>0.1057</td>\n",
                            "      <td>0.0</td>\n",
                            "      <td>0.14</td>\n",
                            "      <td>0.1775</td>\n",
                            "      <td>0.1875</td>\n",
                            "      <td>0.1175</td>\n",
                            "      <td>0.00</td>\n",
                            "      <td>0.000</td>\n",
                            "      <td>0.1157</td>\n",
                            "      <td>0.145</td>\n",
                            "    </tr>\n",
                            "    <tr>\n",
                            "      <th>produto09</th>\n",
                            "      <td>0.078</td>\n",
                            "      <td>0.1089</td>\n",
                            "      <td>0.2667</td>\n",
                            "      <td>0.1057</td>\n",
                            "      <td>0.2</td>\n",
                            "      <td>0.28</td>\n",
                            "      <td>0.0000</td>\n",
                            "      <td>0.1875</td>\n",
                            "      <td>0.0000</td>\n",
                            "      <td>0.18</td>\n",
                            "      <td>0.000</td>\n",
                            "      <td>0.1157</td>\n",
                            "      <td>0.145</td>\n",
                            "    </tr>\n",
                            "    <tr>\n",
                            "      <th>produto10</th>\n",
                            "      <td>0.078</td>\n",
                            "      <td>0.1089</td>\n",
                            "      <td>0.2667</td>\n",
                            "      <td>0.1057</td>\n",
                            "      <td>0.2</td>\n",
                            "      <td>0.14</td>\n",
                            "      <td>0.1775</td>\n",
                            "      <td>0.0000</td>\n",
                            "      <td>0.1175</td>\n",
                            "      <td>0.00</td>\n",
                            "      <td>0.144</td>\n",
                            "      <td>0.1157</td>\n",
                            "      <td>0.145</td>\n",
                            "    </tr>\n",
                            "  </tbody>\n",
                            "</table>\n",
                            "</div>"
                        ],
                        "text/plain": [
                            "             r01     r02     r03     r04  r05   r06     r07     r08     r09  \\\n",
                            "produto01  0.078  0.0726  0.0000  0.1057  0.0  0.00  0.0000  0.0000  0.1175   \n",
                            "produto02  0.078  0.0726  0.0000  0.0000  0.2  0.00  0.0000  0.1875  0.1175   \n",
                            "produto03  0.078  0.0726  0.0000  0.1057  0.0  0.14  0.0000  0.0000  0.1175   \n",
                            "produto04  0.078  0.0726  0.0000  0.1057  0.0  0.00  0.1775  0.0000  0.1175   \n",
                            "produto05  0.078  0.1089  0.0000  0.1057  0.0  0.00  0.0000  0.0000  0.1175   \n",
                            "produto06  0.078  0.0726  0.0000  0.0000  0.2  0.00  0.1775  0.0000  0.1175   \n",
                            "produto07  0.078  0.1089  0.0000  0.0000  0.0  0.00  0.1775  0.1875  0.0000   \n",
                            "produto08  0.078  0.1089  0.2667  0.1057  0.0  0.14  0.1775  0.1875  0.1175   \n",
                            "produto09  0.078  0.1089  0.2667  0.1057  0.2  0.28  0.0000  0.1875  0.0000   \n",
                            "produto10  0.078  0.1089  0.2667  0.1057  0.2  0.14  0.1775  0.0000  0.1175   \n",
                            "\n",
                            "            r10    r11     r12    r13  \n",
                            "produto01  0.18  0.144  0.0000  0.000  \n",
                            "produto02  0.18  0.144  0.0000  0.000  \n",
                            "produto03  0.00  0.144  0.1157  0.000  \n",
                            "produto04  0.18  0.144  0.0000  0.000  \n",
                            "produto05  0.00  0.000  0.1157  0.145  \n",
                            "produto06  0.00  0.000  0.1157  0.145  \n",
                            "produto07  0.00  0.000  0.1157  0.145  \n",
                            "produto08  0.00  0.000  0.1157  0.145  \n",
                            "produto09  0.18  0.000  0.1157  0.145  \n",
                            "produto10  0.00  0.144  0.1157  0.145  "
                        ]
                    },
                    "execution_count": 5,
                    "metadata": {},
                    "output_type": "execute_result"
                }
            ],
            "source": [
                "df  = dbr.define_constraint()\n",
                "df"
            ]
        },
        {
            "cell_type": "code",
            "execution_count": 6,
            "id": "048f66bb",
            "metadata": {},
            "outputs": [
                {
                    "data": {
                        "text/plain": [
                            "'r09'"
                        ]
                    },
                    "execution_count": 6,
                    "metadata": {},
                    "output_type": "execute_result"
                }
            ],
            "source": [
                "dbr.constraint_resource"
            ]
        },
        {
            "cell_type": "code",
            "execution_count": 21,
            "id": "0e68672b",
            "metadata": {},
            "outputs": [
                {
                    "data": {
                        "text/plain": [
                            "'r09'"
                        ]
                    },
                    "execution_count": 21,
                    "metadata": {},
                    "output_type": "execute_result"
                }
            ],
            "source": [
                "df.sum().sort_values(ascending=False).index[0]"
            ]
        },
        {
            "cell_type": "code",
            "execution_count": 17,
            "id": "9a485e8a",
            "metadata": {},
            "outputs": [
                {
                    "ename": "SyntaxError",
                    "evalue": "'yield' outside function (2975993968.py, line 5)",
                    "output_type": "error",
                    "traceback": [
                        "\u001b[1;36m  Cell \u001b[1;32mIn[17], line 5\u001b[1;36m\u001b[0m\n\u001b[1;33m    b = yield a.get()\u001b[0m\n\u001b[1;37m        ^\u001b[0m\n\u001b[1;31mSyntaxError\u001b[0m\u001b[1;31m:\u001b[0m 'yield' outside function\n"
                    ]
                }
            ],
            "source": [
                "a = simpy.FilterStore(env)\n",
                "a.put(2)\n",
                "a.put(4)\n",
                "a.put(5)\n",
                "b = yield a.get()\n",
                "b"
            ]
        },
        {
            "cell_type": "code",
            "execution_count": 4,
            "id": "c8490557",
            "metadata": {},
            "outputs": [
                {
                    "name": "stdout",
                    "output_type": "stream",
                    "text": [
                        "erro\n"
                    ]
                }
            ],
            "source": [
                "\n",
                "a = 5\n",
                "\n",
                "match a:\n",
                "    case 1:\n",
                "        print(a)\n",
                "    case 2: \n",
                "        print(a)\n",
                "    case TypeError:\n",
                "        print(\"erro\")\n"
            ]
        },
        {
            "cell_type": "code",
            "execution_count": 16,
            "id": "c9740a4a",
            "metadata": {},
            "outputs": [
                {
                    "name": "stdout",
                    "output_type": "stream",
                    "text": [
                        "12.128719\n",
                        "14.187874\n",
                        "15.112903\n",
                        "17.663464\n",
                        "14.155166\n"
                    ]
                }
            ],
            "source": [
                "from rlsim.engine.utils import Distribution\n",
                "\n",
                "dst = Distribution(5)\n",
                "\n",
                "print(dst.random_number(\"uniform\", [10,5]))\n",
                "print(dst.random_number(\"uniform\", [10,5]))\n",
                "print(dst.random_number(\"uniform\", [10,5]))\n",
                "print(dst.random_number(\"uniform\", [10,5]))\n",
                "print(dst.random_number(\"uniform\", [10,5]))\n"
            ]
        },
        {
            "cell_type": "code",
            "execution_count": null,
            "id": "cf67eb5d",
            "metadata": {},
            "outputs": [],
            "source": []
        }
    ],
    "metadata": {
        "kernelspec": {
            "display_name": "master",
            "language": "python",
            "name": "python3"
        },
        "language_info": {
            "codemirror_mode": {
                "name": "ipython",
                "version": 3
            },
            "file_extension": ".py",
            "mimetype": "text/x-python",
            "name": "python",
            "nbconvert_exporter": "python",
            "pygments_lexer": "ipython3",
            "version": "3.11.11"
        }
    },
    "nbformat": 4,
    "nbformat_minor": 5
}
