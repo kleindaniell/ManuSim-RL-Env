{
 "cells": [
  {
   "cell_type": "code",
   "execution_count": 1,
   "metadata": {},
   "outputs": [],
   "source": [
    "import simpy\n",
    "import numpy as np\n",
    "import random"
   ]
  },
  {
   "cell_type": "markdown",
   "metadata": {},
   "source": [
    "## Order filter performance test"
   ]
  },
  {
   "cell_type": "code",
   "execution_count": 2,
   "metadata": {},
   "outputs": [],
   "source": [
    "# Order structure\n",
    "pd_json = {}\n",
    "pd_json[\"id\"] = 0\n",
    "pd_json[\"product\"] = 0\n",
    "pd_json[\"schedule\"] = 0\n",
    "pd_json[\"released\"] = 0\n",
    "pd_json[\"duedate\"] = 0\n",
    "pd_json[\"finished\"] = False\n",
    "pd_json[\"quantity\"] = 1\n",
    "pd_json[\"priority\"] = 0\n",
    "pd_json[\"constraint\"] = True\n",
    "pd_json[\"process_total\"] = 5\n",
    "pd_json[\"process_finished\"] = 2\n",
    "\n",
    "pd_np = np.array(\n",
    "    [\n",
    "        0, # id\n",
    "        0, # product\n",
    "        0, # schedule\n",
    "        0, # released\n",
    "        0, # duedate\n",
    "        False, # finished\n",
    "        1, # quantity\n",
    "        0, # priority\n",
    "        True, # constraint\n",
    "        5, # process_total\n",
    "        2, # process_finished\n",
    "    ]\n",
    ")\n"
   ]
  },
  {
   "cell_type": "markdown",
   "metadata": {},
   "source": [
    "### Store"
   ]
  },
  {
   "cell_type": "code",
   "execution_count": null,
   "metadata": {},
   "outputs": [
    {
     "name": "stdout",
     "output_type": "stream",
     "text": [
      "59.9 μs ± 644 ns per loop (mean ± std. dev. of 7 runs, 10,000 loops each)\n"
     ]
    }
   ],
   "source": [
    "%%timeit\n",
    "\n",
    "def put_orders(env, order_in):\n",
    "    while True:\n",
    "        order = order_in.copy()\n",
    "        order[\"id\"] = env.now\n",
    "        yield filtered_store.put(order)\n",
    "        \n",
    "        yield env.timeout(2)\n",
    "\n",
    "def get_orders(env):\n",
    "    while True:\n",
    "        order = yield filtered_store.get()\n",
    "        \n",
    "        yield env.timeout(1)\n",
    "    \n",
    "order_in = pd_json.copy()\n",
    "\n",
    "env = simpy.Environment()\n",
    "filtered_store = simpy.Store(env)\n",
    "env.process(put_orders(env, order_in))\n",
    "env.process(get_orders(env))\n",
    "\n",
    "env.run(until=100)"
   ]
  },
  {
   "cell_type": "markdown",
   "metadata": {},
   "source": [
    "### Filtered Store"
   ]
  },
  {
   "cell_type": "code",
   "execution_count": null,
   "metadata": {},
   "outputs": [
    {
     "name": "stdout",
     "output_type": "stream",
     "text": [
      "64.2 μs ± 2.68 μs per loop (mean ± std. dev. of 7 runs, 10,000 loops each)\n"
     ]
    }
   ],
   "source": [
    "%%timeit\n",
    "\n",
    "def put_orders(env, order_in):\n",
    "    while True:\n",
    "        order = order_in.copy()\n",
    "        order[\"id\"] = env.now\n",
    "        yield filtered_store.put(order)\n",
    "        \n",
    "        yield env.timeout(2)\n",
    "\n",
    "def get_orders(env):\n",
    "    while True:\n",
    "        order = yield filtered_store.get()\n",
    "        \n",
    "        yield env.timeout(1)\n",
    "    \n",
    "order_in = pd_json.copy()\n",
    "\n",
    "env = simpy.Environment()\n",
    "filtered_store = simpy.FilterStore(env)\n",
    "env.process(put_orders(env, order_in))\n",
    "env.process(get_orders(env))\n",
    "\n",
    "env.run(until=100)"
   ]
  },
  {
   "cell_type": "markdown",
   "metadata": {},
   "source": [
    "\n",
    "### Filtered Store with filter"
   ]
  },
  {
   "cell_type": "code",
   "execution_count": null,
   "metadata": {},
   "outputs": [
    {
     "name": "stdout",
     "output_type": "stream",
     "text": [
      "{'id': 0, 'product': 0, 'schedule': 0, 'released': 0, 'duedate': 0, 'finished': False, 'quantity': 1, 'priority': 0, 'constraint': True, 'process_total': 5, 'process_finished': 2}\n",
      "{'id': 8, 'product': 0, 'schedule': 0, 'released': 0, 'duedate': 0, 'finished': False, 'quantity': 1, 'priority': 0, 'constraint': True, 'process_total': 5, 'process_finished': 2}\n",
      "{'id': 18, 'product': 0, 'schedule': 0, 'released': 0, 'duedate': 0, 'finished': False, 'quantity': 1, 'priority': 0, 'constraint': True, 'process_total': 5, 'process_finished': 2}\n",
      "{'id': 28, 'product': 0, 'schedule': 0, 'released': 0, 'duedate': 0, 'finished': False, 'quantity': 1, 'priority': 0, 'constraint': True, 'process_total': 5, 'process_finished': 2}\n",
      "{'id': 38, 'product': 0, 'schedule': 0, 'released': 0, 'duedate': 0, 'finished': False, 'quantity': 1, 'priority': 0, 'constraint': True, 'process_total': 5, 'process_finished': 2}\n",
      "{'id': 48, 'product': 0, 'schedule': 0, 'released': 0, 'duedate': 0, 'finished': False, 'quantity': 1, 'priority': 0, 'constraint': True, 'process_total': 5, 'process_finished': 2}\n",
      "{'id': 58, 'product': 0, 'schedule': 0, 'released': 0, 'duedate': 0, 'finished': False, 'quantity': 1, 'priority': 0, 'constraint': True, 'process_total': 5, 'process_finished': 2}\n",
      "{'id': 68, 'product': 0, 'schedule': 0, 'released': 0, 'duedate': 0, 'finished': False, 'quantity': 1, 'priority': 0, 'constraint': True, 'process_total': 5, 'process_finished': 2}\n",
      "{'id': 78, 'product': 0, 'schedule': 0, 'released': 0, 'duedate': 0, 'finished': False, 'quantity': 1, 'priority': 0, 'constraint': True, 'process_total': 5, 'process_finished': 2}\n",
      "{'id': 88, 'product': 0, 'schedule': 0, 'released': 0, 'duedate': 0, 'finished': False, 'quantity': 1, 'priority': 0, 'constraint': True, 'process_total': 5, 'process_finished': 2}\n"
     ]
    }
   ],
   "source": [
    "# %%timeit\n",
    "\n",
    "def put_orders(env, order_in):\n",
    "    while True:\n",
    "        order = order_in.copy()\n",
    "        order[\"id\"] = env.now\n",
    "        yield filtered_store.put(order)\n",
    "        \n",
    "        yield env.timeout(2)\n",
    "\n",
    "def get_orders(env):\n",
    "    while True:\n",
    "        order_retrieved = yield filtered_store.get(\n",
    "            filter=lambda x: x[\"id\"] == max(\n",
    "                item[\"id\"] for item in filtered_store.items\n",
    "                )\n",
    "            )\n",
    "        print(order_retrieved)\n",
    "        \n",
    "        yield env.timeout(10)\n",
    "    \n",
    "order_in = pd_json.copy()\n",
    "\n",
    "env = simpy.Environment()\n",
    "filtered_store = simpy.FilterStore(env)\n",
    "env.process(put_orders(env, order_in))\n",
    "env.process(get_orders(env))\n",
    "\n",
    "env.run(until=100)"
   ]
  },
  {
   "cell_type": "code",
   "execution_count": null,
   "metadata": {},
   "outputs": [],
   "source": []
  },
  {
   "cell_type": "code",
   "execution_count": null,
   "metadata": {},
   "outputs": [],
   "source": []
  }
 ],
 "metadata": {
  "kernelspec": {
   "display_name": "master",
   "language": "python",
   "name": "python3"
  },
  "language_info": {
   "codemirror_mode": {
    "name": "ipython",
    "version": 3
   },
   "file_extension": ".py",
   "mimetype": "text/x-python",
   "name": "python",
   "nbconvert_exporter": "python",
   "pygments_lexer": "ipython3",
   "version": "3.11.11"
  }
 },
 "nbformat": 4,
 "nbformat_minor": 2
}
