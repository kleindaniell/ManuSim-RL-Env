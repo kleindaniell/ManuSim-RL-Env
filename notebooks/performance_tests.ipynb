{
 "cells": [
  {
   "cell_type": "code",
   "execution_count": null,
   "metadata": {},
   "outputs": [],
   "source": [
    "import simpy\n",
    "import numpy as np\n",
    "import random"
   ]
  },
  {
   "cell_type": "markdown",
   "metadata": {},
   "source": [
    "## Order filter performance test"
   ]
  },
  {
   "cell_type": "markdown",
   "metadata": {},
   "source": [
    "## With Json"
   ]
  },
  {
   "cell_type": "code",
   "execution_count": null,
   "metadata": {},
   "outputs": [],
   "source": [
    "# Order structure\n",
    "pd_json = {}\n",
    "pd_json[\"id\"] = 0\n",
    "pd_json[\"product\"] = 0\n",
    "pd_json[\"schedule\"] = 0\n",
    "pd_json[\"released\"] = 0\n",
    "pd_json[\"duedate\"] = 0\n",
    "pd_json[\"finished\"] = False\n",
    "pd_json[\"quantity\"] = 1\n",
    "pd_json[\"priority\"] = 0\n",
    "pd_json[\"constraint\"] = True\n",
    "pd_json[\"process_total\"] = 5\n",
    "pd_json[\"process_finished\"] = 2\n"
   ]
  },
  {
   "cell_type": "markdown",
   "metadata": {},
   "source": [
    "### Store"
   ]
  },
  {
   "cell_type": "code",
   "execution_count": null,
   "metadata": {},
   "outputs": [],
   "source": [
    "%%timeit\n",
    "\n",
    "def put_orders(env, order_in):\n",
    "    while True:\n",
    "        order = order_in.copy()\n",
    "        order[\"id\"] = env.now\n",
    "        yield filtered_store.put(order)\n",
    "        \n",
    "        yield env.timeout(2)\n",
    "\n",
    "def get_orders(env):\n",
    "    while True:\n",
    "        order = yield filtered_store.get()\n",
    "        \n",
    "        yield env.timeout(10)\n",
    "    \n",
    "order_in = pd_json.copy()\n",
    "\n",
    "env = simpy.Environment()\n",
    "filtered_store = simpy.Store(env)\n",
    "env.process(put_orders(env, order_in))\n",
    "env.process(get_orders(env))\n",
    "\n",
    "env.run(until=100)"
   ]
  },
  {
   "cell_type": "markdown",
   "metadata": {},
   "source": [
    "### Filtered Store"
   ]
  },
  {
   "cell_type": "code",
   "execution_count": null,
   "metadata": {},
   "outputs": [],
   "source": [
    "%%timeit\n",
    "\n",
    "def put_orders(env, order_in):\n",
    "    while True:\n",
    "        order = order_in.copy()\n",
    "        order[\"id\"] = env.now\n",
    "        yield filtered_store.put(order)\n",
    "        \n",
    "        yield env.timeout(2)\n",
    "\n",
    "def get_orders(env):\n",
    "    while True:\n",
    "        order = yield filtered_store.get()\n",
    "        \n",
    "        yield env.timeout(10)\n",
    "    \n",
    "order_in = pd_json.copy()\n",
    "\n",
    "env = simpy.Environment()\n",
    "filtered_store = simpy.FilterStore(env)\n",
    "env.process(put_orders(env, order_in))\n",
    "env.process(get_orders(env))\n",
    "\n",
    "env.run(until=100)"
   ]
  },
  {
   "cell_type": "markdown",
   "metadata": {},
   "source": [
    "\n",
    "### Filtered Store with filter"
   ]
  },
  {
   "cell_type": "code",
   "execution_count": null,
   "metadata": {},
   "outputs": [],
   "source": [
    "%%timeit\n",
    "\n",
    "def put_orders(env, order_in):\n",
    "    while True:\n",
    "        order = order_in.copy()\n",
    "        order[\"id\"] = env.now\n",
    "        yield filtered_store.put(order)\n",
    "        \n",
    "        yield env.timeout(2)\n",
    "\n",
    "def get_orders(env):\n",
    "    while True:\n",
    "        order_retrieved = yield filtered_store.get(\n",
    "            filter=lambda x: x[\"id\"] == max(\n",
    "                item[\"id\"] for item in filtered_store.items\n",
    "                )\n",
    "            )\n",
    "        # print(order_retrieved)\n",
    "        \n",
    "        yield env.timeout(10)\n",
    "    \n",
    "order_in = pd_json.copy()\n",
    "\n",
    "env = simpy.Environment()\n",
    "filtered_store = simpy.FilterStore(env)\n",
    "env.process(put_orders(env, order_in))\n",
    "env.process(get_orders(env))\n",
    "\n",
    "env.run(until=100)"
   ]
  },
  {
   "cell_type": "markdown",
   "metadata": {},
   "source": [
    "## With numpy array"
   ]
  },
  {
   "cell_type": "code",
   "execution_count": null,
   "metadata": {},
   "outputs": [],
   "source": [
    "\n",
    "pd_np = np.array(\n",
    "    [\n",
    "        0, # id\n",
    "        0, # product\n",
    "        0, # schedule\n",
    "        0, # released\n",
    "        0, # duedate\n",
    "        False, # finished\n",
    "        1, # quantity\n",
    "        0, # priority\n",
    "        True, # constraint\n",
    "        5, # process_total\n",
    "        2, # process_finished\n",
    "    ]\n",
    ")\n"
   ]
  },
  {
   "cell_type": "markdown",
   "metadata": {},
   "source": [
    "### Store"
   ]
  },
  {
   "cell_type": "code",
   "execution_count": null,
   "metadata": {},
   "outputs": [],
   "source": [
    "%%timeit\n",
    "\n",
    "def put_orders(env, order_in):\n",
    "    while True:\n",
    "        order = order_in.copy()\n",
    "        order[0] = env.now\n",
    "        yield filtered_store.put(order)\n",
    "        \n",
    "        yield env.timeout(2)\n",
    "\n",
    "def get_orders(env):\n",
    "    while True:\n",
    "        order = yield filtered_store.get()\n",
    "        \n",
    "        yield env.timeout(10)\n",
    "    \n",
    "order_in = pd_np.copy()\n",
    "\n",
    "env = simpy.Environment()\n",
    "filtered_store = simpy.Store(env)\n",
    "env.process(put_orders(env, order_in))\n",
    "env.process(get_orders(env))\n",
    "\n",
    "env.run(until=100)"
   ]
  },
  {
   "cell_type": "markdown",
   "metadata": {},
   "source": [
    "## Filtered Store"
   ]
  },
  {
   "cell_type": "code",
   "execution_count": null,
   "metadata": {},
   "outputs": [],
   "source": [
    "%%timeit\n",
    "\n",
    "def put_orders(env, order_in):\n",
    "    while True:\n",
    "        order = order_in.copy()\n",
    "        order[\"id\"] = env.now\n",
    "        yield filtered_store.put(order)\n",
    "        \n",
    "        yield env.timeout(2)\n",
    "\n",
    "def get_orders(env):\n",
    "    while True:\n",
    "        order_retrieved = yield filtered_store.get(\n",
    "            filter=lambda x: x[\"id\"] == max(\n",
    "                item[\"id\"] for item in filtered_store.items\n",
    "                )\n",
    "            )\n",
    "        # print(order_retrieved)\n",
    "        \n",
    "        yield env.timeout(10)\n",
    "    \n",
    "order_in = pd_np.copy()\n",
    "\n",
    "env = simpy.Environment()\n",
    "filtered_store = simpy.FilterStore(env)\n",
    "env.process(put_orders(env, order_in))\n",
    "env.process(get_orders(env))\n",
    "\n",
    "env.run(until=100)"
   ]
  },
  {
   "cell_type": "code",
   "execution_count": null,
   "metadata": {},
   "outputs": [],
   "source": [
    "a = []\n",
    "for i in range(100):\n",
    "    pd_np[0] = i\n",
    "    a.append(pd_np.copy())\n",
    "\n",
    "a = np.array(a)\n",
    "\n",
    "a[:,0] >= a.max()"
   ]
  },
  {
   "cell_type": "code",
   "execution_count": null,
   "metadata": {},
   "outputs": [],
   "source": [
    "a"
   ]
  },
  {
   "cell_type": "code",
   "execution_count": null,
   "metadata": {},
   "outputs": [],
   "source": []
  }
 ],
 "metadata": {
  "kernelspec": {
   "display_name": "master",
   "language": "python",
   "name": "python3"
  },
  "language_info": {
   "codemirror_mode": {
    "name": "ipython",
    "version": 3
   },
   "file_extension": ".py",
   "mimetype": "text/x-python",
   "name": "python",
   "nbconvert_exporter": "python",
   "pygments_lexer": "ipython3",
   "version": "3.11.11"
  }
 },
 "nbformat": 4,
 "nbformat_minor": 2
}
