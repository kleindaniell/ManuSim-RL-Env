{
 "cells": [
  {
   "cell_type": "code",
   "execution_count": null,
   "id": "8968f9d6",
   "metadata": {},
   "outputs": [],
   "source": [
    "from rlsim.control import ProductionOrder\n",
    "import simpy\n",
    "import numpy as np\n",
    "\n",
    "env = simpy.Environment()\n",
    "\n",
    "store_4 = simpy.FilterStore(env)\n",
    "\n",
    "for i in range(0,100):\n",
    "    store_4.put(ProductionOrder(\"product2\", due_date=np.random.randint(10,20)))\n",
    "\n",
    "def select_order(store: simpy.FilterStore, method=\"fifo\"):\n",
    "    match method:\n",
    "        case \"fifo\":\n",
    "            return np.array(store.items)[0][\"id\"]\n",
    "        case \"priority\":\n",
    "            now=15\n",
    "            orders = np.array(store.items)\n",
    "            orders[\"priority\"] = orders[\"due_date\"]-now\n",
    "            orders.sort(order=\"priority\")\n",
    "            return orders[0][\"id\"]\n",
    "\n",
    "def teste_4():\n",
    "\n",
    "    po_id = select_order(store_4, \"fifo\")\n",
    "    po: ProductionOrder = yield store_4.get(lambda x: x[\"id\"] == po_id)\n",
    "    po[\"local\"] = \"teste\"\n",
    "    po[\"quantity\"] = \"2\"\n",
    "    po[\"scheduled\"] = \"10\"\n",
    "    po[\"released\"] = \"20\"\n",
    "    po[\"process_actual\"] = 2\n",
    "\n",
    "    yield store_4.put(po)"
   ]
  },
  {
   "cell_type": "code",
   "execution_count": null,
   "id": "c45083c9",
   "metadata": {},
   "outputs": [],
   "source": [
    "env.process(teste_4())\n",
    "env.run()"
   ]
  },
  {
   "cell_type": "code",
   "execution_count": null,
   "id": "1a7614e7",
   "metadata": {},
   "outputs": [],
   "source": [
    "%%timeit\n",
    "env.process(teste_4())\n",
    "env.run()"
   ]
  },
  {
   "cell_type": "code",
   "execution_count": null,
   "id": "cd2f7441",
   "metadata": {},
   "outputs": [],
   "source": [
    "store_4.items"
   ]
  },
  {
   "cell_type": "code",
   "execution_count": null,
   "id": "41429bb8",
   "metadata": {},
   "outputs": [],
   "source": [
    "now = 15\n",
    "\n",
    "orders = np.array(store_4.items)\n",
    "\n",
    "orders[\"priority\"] = orders[\"due_date\"]-now\n",
    "np.append(ord, 0, )\n",
    "# orders[\"order\"] = 10\n",
    "orders.sort(order=\"priority\")\n",
    "# orders[:-1]\n",
    "orders"
   ]
  },
  {
   "cell_type": "code",
   "execution_count": null,
   "id": "a2b7ba88",
   "metadata": {},
   "outputs": [],
   "source": [
    "orders = np.array([ProductionOrder(f\"Product{i}\", quantity=np.random.randint(1, 100)) for i in range(100)])\n",
    "orders"
   ]
  },
  {
   "cell_type": "code",
   "execution_count": null,
   "id": "14d402b3",
   "metadata": {},
   "outputs": [],
   "source": [
    "np.sort(orders, order=\"product\", )"
   ]
  },
  {
   "cell_type": "code",
   "execution_count": null,
   "id": "fa72b269",
   "metadata": {},
   "outputs": [],
   "source": [
    "sorted_orders = np.sort(orders, order=\"quantity\")\n",
    "sorted_orders"
   ]
  },
  {
   "cell_type": "code",
   "execution_count": null,
   "id": "25f4a443",
   "metadata": {},
   "outputs": [],
   "source": [
    "sorted_indices = np.argsort(orders[\"quantity\"])\n",
    "sorted_indices\n"
   ]
  },
  {
   "cell_type": "code",
   "execution_count": null,
   "id": "f846d61c",
   "metadata": {},
   "outputs": [],
   "source": [
    "sorted_orders = orders[sorted_indices]\n",
    "sorted_orders"
   ]
  },
  {
   "cell_type": "code",
   "execution_count": null,
   "id": "f64e8a5a",
   "metadata": {},
   "outputs": [],
   "source": [
    "sorted_orders = orders[np.argsort(-orders[\"due_date\"])]\n",
    "sorted_orders"
   ]
  },
  {
   "cell_type": "code",
   "execution_count": null,
   "id": "8b801fa2",
   "metadata": {},
   "outputs": [],
   "source": [
    "sorted_orders = np.sort(orders, order=[\"priority\", \"due_date\"])\n",
    "sorted_orders"
   ]
  },
  {
   "cell_type": "code",
   "execution_count": null,
   "id": "a02a7756",
   "metadata": {},
   "outputs": [],
   "source": [
    "a = ProductionOrder(id=30, product=\"paessfd2\")\n"
   ]
  },
  {
   "cell_type": "code",
   "execution_count": null,
   "id": "5a250c17",
   "metadata": {},
   "outputs": [],
   "source": []
  },
  {
   "cell_type": "code",
   "execution_count": null,
   "id": "173ee39f",
   "metadata": {},
   "outputs": [],
   "source": [
    "b:"
   ]
  },
  {
   "cell_type": "code",
   "execution_count": null,
   "id": "084a9452",
   "metadata": {},
   "outputs": [],
   "source": [
    "next(iter(a))"
   ]
  },
  {
   "cell_type": "code",
   "execution_count": null,
   "id": "5ff76146",
   "metadata": {},
   "outputs": [],
   "source": [
    "import numpy as np\n",
    "\n",
    "dtype = [\n",
    "    ('used', np.bool),              # If slod is used\n",
    "    ('id', np.int32),               # Order ID\n",
    "    ('product', 'U12'),             # Product name\n",
    "    ('quantity', np.int16),         # Product quantity\n",
    "    ('due_date', np.float64),       # Due date\n",
    "    ('scheduled', np.float64),      # Scheduled to release\n",
    "    ('released', np.float64),       # Released time to shopfloor\n",
    "    ('priority', np.int8),          # Order priority\n",
    "    ('process_total', np.int16),    # Total process that order needs\n",
    "    ('process_actual', np.int16),   # Actual process that order is\n",
    "    ('finished', np.bool),          # If order is finished\n",
    "    ('finish_time', np.float64)     # Finished at\n",
    "]\n",
    "\n",
    "orders = np.zeros(100000, dtype=dtype)\n"
   ]
  },
  {
   "cell_type": "code",
   "execution_count": null,
   "id": "bdb486fb",
   "metadata": {},
   "outputs": [],
   "source": [
    "orders"
   ]
  },
  {
   "cell_type": "code",
   "execution_count": null,
   "id": "d677f31e",
   "metadata": {},
   "outputs": [],
   "source": [
    "po_dtype = [\n",
    "            (\"id\", np.int32),  # Order ID\n",
    "            (\"used\", np.bool),  # If slod is used\n",
    "            (\"product\", \"U12\"),  # Product name\n",
    "            (\"quantity\", np.int16),  # Product quantity\n",
    "            (\"due_date\", np.float64),  # Due date\n",
    "            (\"scheduled\", np.float64),  # Scheduled to release\n",
    "            (\"released\", np.float64),  # Released time to shopfloor\n",
    "            (\"priority\", np.int8),  # Order priority\n",
    "            (\"process_total\", np.int16),  # Total process that order needs\n",
    "            (\"process_actual\", np.int16),  # Actual process that order is\n",
    "            (\"finished\", np.bool),  # If order is finished\n",
    "            (\"finish_time\", np.float64),  # Finished at\n",
    "        ]\n",
    "po_orders = np.zeros(100000, dtype=po_dtype)\n",
    "po_orders[\"id\"] = range(0,len(po_orders))\n",
    "po_orders"
   ]
  },
  {
   "cell_type": "code",
   "execution_count": null,
   "id": "7e18329b",
   "metadata": {},
   "outputs": [],
   "source": [
    "mask = po_orders[\"used\"]==False\n",
    "id_ = po_orders[mask][0][\"id\"]\n",
    "po_orders[po_orders[\"id\"]==id_][0] = (id_, True, 'teste', 0, 0.0, 0.0, 0.0, 0, 0, 0, False, 0.0)\n",
    "po_orders"
   ]
  },
  {
   "cell_type": "code",
   "execution_count": null,
   "id": "a0ce8337",
   "metadata": {},
   "outputs": [],
   "source": [
    "po_orders[0] = (0, True, 'teste', 0, 0.0, 0.0, 0.0, 0, 0, 0, False, 0.0)\n",
    "po_orders\n"
   ]
  },
  {
   "cell_type": "code",
   "execution_count": null,
   "id": "44fbddc4",
   "metadata": {},
   "outputs": [],
   "source": [
    "orders = orders[orders[\"used\"] == False]\n",
    "orders.shape"
   ]
  },
  {
   "cell_type": "code",
   "execution_count": null,
   "id": "f3b76a20",
   "metadata": {},
   "outputs": [],
   "source": [
    "def add_order(orders, current_index, order_data):\n",
    "    if current_index >= len(orders):\n",
    "        raise IndexError(\"Order array is full. Resize needed.\")\n",
    "    orders[current_index] = order_data\n",
    "    return current_index + 1  # return next available index"
   ]
  },
  {
   "cell_type": "code",
   "execution_count": null,
   "id": "b236e562",
   "metadata": {},
   "outputs": [],
   "source": [
    "# Extend dtype with an 'active' flag\n",
    "dtype.append(('active', 'bool'))\n",
    "orders = np.zeros(10000, dtype=dtype)\n",
    "orders['active'][:] = True\n",
    "\n",
    "# Soft-delete by flagging\n",
    "orders['active'][idx_to_delete] = False"
   ]
  }
 ],
 "metadata": {
  "kernelspec": {
   "display_name": "master",
   "language": "python",
   "name": "python3"
  },
  "language_info": {
   "codemirror_mode": {
    "name": "ipython",
    "version": 3
   },
   "file_extension": ".py",
   "mimetype": "text/x-python",
   "name": "python",
   "nbconvert_exporter": "python",
   "pygments_lexer": "ipython3",
   "version": "3.11.0"
  }
 },
 "nbformat": 4,
 "nbformat_minor": 5
}
