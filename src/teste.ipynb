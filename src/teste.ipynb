{
 "cells": [
  {
   "cell_type": "code",
   "execution_count": 6,
   "metadata": {},
   "outputs": [],
   "source": [
    "import simpy\n",
    "import pandas as pd \n",
    "import numpy as np "
   ]
  },
  {
   "cell_type": "code",
   "execution_count": 32,
   "metadata": {},
   "outputs": [
    {
     "name": "stderr",
     "output_type": "stream",
     "text": [
      "c:\\Users\\klein\\miniconda3\\envs\\master\\Lib\\site-packages\\pandas\\io\\formats\\format.py:1458: RuntimeWarning: overflow encountered in cast\n",
      "  has_large_values = (abs_vals > 1e6).any()\n"
     ]
    },
    {
     "data": {
      "text/html": [
       "<div>\n",
       "<style scoped>\n",
       "    .dataframe tbody tr th:only-of-type {\n",
       "        vertical-align: middle;\n",
       "    }\n",
       "\n",
       "    .dataframe tbody tr th {\n",
       "        vertical-align: top;\n",
       "    }\n",
       "\n",
       "    .dataframe thead th {\n",
       "        text-align: right;\n",
       "    }\n",
       "</style>\n",
       "<table border=\"1\" class=\"dataframe\">\n",
       "  <thead>\n",
       "    <tr style=\"text-align: right;\">\n",
       "      <th></th>\n",
       "      <th>0</th>\n",
       "      <th>1</th>\n",
       "      <th>2</th>\n",
       "      <th>3</th>\n",
       "    </tr>\n",
       "  </thead>\n",
       "  <tbody>\n",
       "    <tr>\n",
       "      <th>0</th>\n",
       "      <td>0.582520</td>\n",
       "      <td>0.430908</td>\n",
       "      <td>0.520996</td>\n",
       "      <td>0.863281</td>\n",
       "    </tr>\n",
       "    <tr>\n",
       "      <th>1</th>\n",
       "      <td>0.112610</td>\n",
       "      <td>0.686523</td>\n",
       "      <td>0.980957</td>\n",
       "      <td>0.275635</td>\n",
       "    </tr>\n",
       "    <tr>\n",
       "      <th>2</th>\n",
       "      <td>0.348145</td>\n",
       "      <td>0.100403</td>\n",
       "      <td>0.829590</td>\n",
       "      <td>0.535645</td>\n",
       "    </tr>\n",
       "    <tr>\n",
       "      <th>3</th>\n",
       "      <td>0.423340</td>\n",
       "      <td>0.261963</td>\n",
       "      <td>0.218872</td>\n",
       "      <td>0.388916</td>\n",
       "    </tr>\n",
       "    <tr>\n",
       "      <th>4</th>\n",
       "      <td>0.415283</td>\n",
       "      <td>0.329102</td>\n",
       "      <td>0.240601</td>\n",
       "      <td>0.232178</td>\n",
       "    </tr>\n",
       "    <tr>\n",
       "      <th>...</th>\n",
       "      <td>...</td>\n",
       "      <td>...</td>\n",
       "      <td>...</td>\n",
       "      <td>...</td>\n",
       "    </tr>\n",
       "    <tr>\n",
       "      <th>995</th>\n",
       "      <td>0.930664</td>\n",
       "      <td>0.081482</td>\n",
       "      <td>0.602539</td>\n",
       "      <td>0.859375</td>\n",
       "    </tr>\n",
       "    <tr>\n",
       "      <th>996</th>\n",
       "      <td>0.176514</td>\n",
       "      <td>0.693359</td>\n",
       "      <td>0.780762</td>\n",
       "      <td>0.578613</td>\n",
       "    </tr>\n",
       "    <tr>\n",
       "      <th>997</th>\n",
       "      <td>0.760254</td>\n",
       "      <td>0.115173</td>\n",
       "      <td>0.325195</td>\n",
       "      <td>0.456055</td>\n",
       "    </tr>\n",
       "    <tr>\n",
       "      <th>998</th>\n",
       "      <td>0.375732</td>\n",
       "      <td>0.972168</td>\n",
       "      <td>0.617676</td>\n",
       "      <td>0.556641</td>\n",
       "    </tr>\n",
       "    <tr>\n",
       "      <th>999</th>\n",
       "      <td>0.050690</td>\n",
       "      <td>0.580566</td>\n",
       "      <td>0.434570</td>\n",
       "      <td>0.084412</td>\n",
       "    </tr>\n",
       "  </tbody>\n",
       "</table>\n",
       "<p>1000 rows × 4 columns</p>\n",
       "</div>"
      ],
      "text/plain": [
       "            0         1         2         3\n",
       "0    0.582520  0.430908  0.520996  0.863281\n",
       "1    0.112610  0.686523  0.980957  0.275635\n",
       "2    0.348145  0.100403  0.829590  0.535645\n",
       "3    0.423340  0.261963  0.218872  0.388916\n",
       "4    0.415283  0.329102  0.240601  0.232178\n",
       "..        ...       ...       ...       ...\n",
       "995  0.930664  0.081482  0.602539  0.859375\n",
       "996  0.176514  0.693359  0.780762  0.578613\n",
       "997  0.760254  0.115173  0.325195  0.456055\n",
       "998  0.375732  0.972168  0.617676  0.556641\n",
       "999  0.050690  0.580566  0.434570  0.084412\n",
       "\n",
       "[1000 rows x 4 columns]"
      ]
     },
     "execution_count": 32,
     "metadata": {},
     "output_type": "execute_result"
    }
   ],
   "source": [
    "df = np.random.rand(1000,4)\n",
    "df = pd.DataFrame(df, dtype=np.float16)\n",
    "df"
   ]
  },
  {
   "cell_type": "code",
   "execution_count": 33,
   "metadata": {},
   "outputs": [
    {
     "name": "stdout",
     "output_type": "stream",
     "text": [
      "199 μs ± 2.35 μs per loop (mean ± std. dev. of 7 runs, 10,000 loops each)\n"
     ]
    }
   ],
   "source": [
    "%%timeit\n",
    "\n",
    "df.loc[df[0] > 0.5].sort_values(0)"
   ]
  },
  {
   "cell_type": "code",
   "execution_count": 28,
   "metadata": {},
   "outputs": [
    {
     "name": "stdout",
     "output_type": "stream",
     "text": [
      "304 μs ± 13.6 μs per loop (mean ± std. dev. of 7 runs, 1,000 loops each)\n"
     ]
    }
   ],
   "source": [
    "%%timeit\n",
    "\n",
    "df.sort_values(0).loc[df[0] > 0.5]"
   ]
  },
  {
   "cell_type": "code",
   "execution_count": 34,
   "metadata": {},
   "outputs": [],
   "source": [
    "import random\n",
    "\n",
    "dcl = []\n",
    "\n",
    "for a in range(1000):\n",
    "    dcl.append(\n",
    "        {\n",
    "           0: np.random.rand(),\n",
    "           1: np.random.rand(),\n",
    "           2: np.random.rand(),\n",
    "           3: np.random.rand(), \n",
    "        }\n",
    "    )     \n"
   ]
  },
  {
   "cell_type": "code",
   "execution_count": 35,
   "metadata": {},
   "outputs": [
    {
     "name": "stdout",
     "output_type": "stream",
     "text": [
      "51.3 μs ± 1.86 μs per loop (mean ± std. dev. of 7 runs, 10,000 loops each)\n"
     ]
    }
   ],
   "source": [
    "%%timeit\n",
    "list(filter(\n",
    "    lambda x: x[0] > 0.5, dcl\n",
    "))"
   ]
  },
  {
   "cell_type": "code",
   "execution_count": 36,
   "metadata": {},
   "outputs": [
    {
     "name": "stdout",
     "output_type": "stream",
     "text": [
      "140 μs ± 3.44 μs per loop (mean ± std. dev. of 7 runs, 10,000 loops each)\n"
     ]
    }
   ],
   "source": [
    "%%timeit\n",
    "list(filter(\n",
    "    lambda x: x[0] > 0.5, sorted(\n",
    "        dcl, key=lambda y: y[0]\n",
    "    )\n",
    "))\n"
   ]
  },
  {
   "cell_type": "code",
   "execution_count": 37,
   "metadata": {},
   "outputs": [
    {
     "name": "stdout",
     "output_type": "stream",
     "text": [
      "55 μs ± 2.92 μs per loop (mean ± std. dev. of 7 runs, 10,000 loops each)\n"
     ]
    }
   ],
   "source": [
    "%%timeit\n",
    "list(\n",
    "    sorted(\n",
    "        filter(\n",
    "            lambda x: x[0]>5, dcl\n",
    "        ), key=lambda y: y[0]\n",
    "    )\n",
    ")\n"
   ]
  },
  {
   "cell_type": "code",
   "execution_count": 45,
   "metadata": {},
   "outputs": [
    {
     "name": "stdout",
     "output_type": "stream",
     "text": [
      "0 got Machine(size=2, duration=1) at 0\n",
      "0 released Machine(size=2, duration=1) at 1\n"
     ]
    }
   ],
   "source": [
    "from collections import namedtuple\n",
    "\n",
    "Machine = namedtuple('Machine', 'size, duration')\n",
    "m1 = Machine(1, 2)  # Small and slow\n",
    "m2 = Machine(2, 1)  # Big and fast\n",
    "\n",
    "env = simpy.Environment()\n",
    "machine_shop = simpy.FilterStore(env, capacity=2)\n",
    "machine_shop.items = [m1, m2]  # Pre-populate the machine shop\n",
    "\n",
    "def user(name, env, ms, size):\n",
    "    machine = yield ms.get(lambda machine: machine.size == size)\n",
    "    print(name, 'got', machine, 'at', env.now)\n",
    "    yield env.timeout(machine.duration)\n",
    "    # yield ms.put(machine)\n",
    "    print(name, 'released', machine, 'at', env.now)\n",
    "\n",
    "\n",
    "users = [env.process(user(i, env, machine_shop, 2))\n",
    "         for i in range(3)]\n",
    "env.run()"
   ]
  },
  {
   "cell_type": "code",
   "execution_count": 49,
   "metadata": {},
   "outputs": [
    {
     "data": {
      "text/plain": [
       "[Machine(size=20, duration=2)]"
      ]
     },
     "execution_count": 49,
     "metadata": {},
     "output_type": "execute_result"
    }
   ],
   "source": [
    "a = machine_shop.items\n",
    "a[0] = Machine(20,2)\n",
    "machine_shop.items = a\n",
    "machine_shop.items"
   ]
  },
  {
   "cell_type": "code",
   "execution_count": 50,
   "metadata": {},
   "outputs": [
    {
     "data": {
      "text/plain": [
       "list"
      ]
     },
     "execution_count": 50,
     "metadata": {},
     "output_type": "execute_result"
    }
   ],
   "source": [
    "type(a)"
   ]
  },
  {
   "cell_type": "code",
   "execution_count": null,
   "metadata": {},
   "outputs": [],
   "source": []
  }
 ],
 "metadata": {
  "kernelspec": {
   "display_name": "master",
   "language": "python",
   "name": "python3"
  },
  "language_info": {
   "codemirror_mode": {
    "name": "ipython",
    "version": 3
   },
   "file_extension": ".py",
   "mimetype": "text/x-python",
   "name": "python",
   "nbconvert_exporter": "python",
   "pygments_lexer": "ipython3",
   "version": "3.11.0"
  }
 },
 "nbformat": 4,
 "nbformat_minor": 2
}
