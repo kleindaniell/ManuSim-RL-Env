{
 "cells": [
  {
   "cell_type": "code",
   "execution_count": null,
   "metadata": {},
   "outputs": [],
   "source": [
    "import simpy\n",
    "import pandas as pd \n",
    "import numpy as np "
   ]
  },
  {
   "cell_type": "code",
   "execution_count": null,
   "metadata": {},
   "outputs": [],
   "source": [
    "df = np.random.rand(1000,4)\n",
    "df = pd.DataFrame(df, dtype=np.float16)\n",
    "df"
   ]
  },
  {
   "cell_type": "code",
   "execution_count": null,
   "metadata": {},
   "outputs": [],
   "source": [
    "%%timeit\n",
    "\n",
    "df.loc[df[0] > 0.5].sort_values(0)"
   ]
  },
  {
   "cell_type": "code",
   "execution_count": null,
   "metadata": {},
   "outputs": [],
   "source": [
    "%%timeit\n",
    "\n",
    "df.sort_values(0).loc[df[0] > 0.5]"
   ]
  },
  {
   "cell_type": "code",
   "execution_count": null,
   "metadata": {},
   "outputs": [],
   "source": [
    "import random\n",
    "\n",
    "dcl = []\n",
    "\n",
    "for a in range(1000):\n",
    "    dcl.append(\n",
    "        {\n",
    "           0: np.random.rand(),\n",
    "           1: np.random.rand(),\n",
    "           2: np.random.rand(),\n",
    "           3: np.random.rand(), \n",
    "        }\n",
    "    )     \n"
   ]
  },
  {
   "cell_type": "code",
   "execution_count": null,
   "metadata": {},
   "outputs": [],
   "source": [
    "%%timeit\n",
    "list(filter(\n",
    "    lambda x: x[0] > 0.5, dcl\n",
    "))"
   ]
  },
  {
   "cell_type": "code",
   "execution_count": null,
   "metadata": {},
   "outputs": [],
   "source": [
    "%%timeit\n",
    "list(filter(\n",
    "    lambda x: x[0] > 0.5, sorted(\n",
    "        dcl, key=lambda y: y[0]\n",
    "    )\n",
    "))\n"
   ]
  },
  {
   "cell_type": "code",
   "execution_count": null,
   "metadata": {},
   "outputs": [],
   "source": [
    "%%timeit\n",
    "list(\n",
    "    sorted(\n",
    "        filter(\n",
    "            lambda x: x[0]>5, dcl\n",
    "        ), key=lambda y: y[0]\n",
    "    )\n",
    ")\n"
   ]
  },
  {
   "cell_type": "code",
   "execution_count": null,
   "metadata": {},
   "outputs": [],
   "source": [
    "from collections import namedtuple\n",
    "\n",
    "Machine = namedtuple('Machine', 'size, duration')\n",
    "m1 = Machine(1, 2)  # Small and slow\n",
    "m2 = Machine(2, 1)  # Big and fast\n",
    "\n",
    "env = simpy.Environment()\n",
    "machine_shop = simpy.FilterStore(env, capacity=2)\n",
    "machine_shop.items = [m1, m2]  # Pre-populate the machine shop\n",
    "\n",
    "def user(name, env, ms, size):\n",
    "    machine = yield ms.get(lambda machine: machine.size == size)\n",
    "    print(name, 'got', machine, 'at', env.now)\n",
    "    yield env.timeout(machine.duration)\n",
    "    # yield ms.put(machine)\n",
    "    print(name, 'released', machine, 'at', env.now)\n",
    "\n",
    "\n",
    "users = [env.process(user(i, env, machine_shop, 2))\n",
    "         for i in range(3)]\n",
    "env.run()"
   ]
  },
  {
   "cell_type": "code",
   "execution_count": null,
   "metadata": {},
   "outputs": [],
   "source": [
    "a = machine_shop.items\n",
    "a[0] = Machine(20,2)\n",
    "machine_shop.items = a\n",
    "machine_shop.items"
   ]
  },
  {
   "cell_type": "code",
   "execution_count": null,
   "metadata": {},
   "outputs": [],
   "source": [
    "type(a)"
   ]
  },
  {
   "cell_type": "code",
   "execution_count": null,
   "metadata": {},
   "outputs": [],
   "source": []
  }
 ],
 "metadata": {
  "kernelspec": {
   "display_name": "master",
   "language": "python",
   "name": "python3"
  },
  "language_info": {
   "codemirror_mode": {
    "name": "ipython",
    "version": 3
   },
   "file_extension": ".py",
   "mimetype": "text/x-python",
   "name": "python",
   "nbconvert_exporter": "python",
   "pygments_lexer": "ipython3",
   "version": "3.11.0"
  }
 },
 "nbformat": 4,
 "nbformat_minor": 2
}
